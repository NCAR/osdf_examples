{
 "cells": [
  {
   "cell_type": "markdown",
   "id": "bc65f494-4fbe-4af0-85ca-e3a424b56454",
   "metadata": {},
   "source": [
    "# CONUS 404 diagnostic plots"
   ]
  },
  {
   "cell_type": "markdown",
   "id": "db1d6ac4-fe69-4d95-a9cb-ca2f063ea493",
   "metadata": {},
   "source": [
    "### Data Access\n",
    "\n",
    "- This notebook illustrates how to make diagnostic plots using the CONUS 404 dataset hosted on NCAR's glade storage.\n",
    "- https://rda.ucar.edu/datasets/d559000/\n",
    "- This data is open access and can be accessed via 3 protocols\n",
    "  1) posix (if you have access to NCAR's HPC systems: Casper or Derecho)\n",
    "  2) HTTPS\n",
    "  3) OSDF using intake-ESM catalogs.\n",
    "- Learn about intake-ESM catalogs: https://intake-esm.readthedocs.io/en/stable/ "
   ]
  },
  {
   "cell_type": "code",
   "execution_count": 1,
   "id": "20444ba4-275a-45a7-bda5-c22b5cb5cee4",
   "metadata": {},
   "outputs": [],
   "source": [
    "import warnings\n",
    "warnings.filterwarnings(\"ignore\")\n",
    "import intake\n",
    "import numpy as np\n",
    "import pandas as pd\n",
    "import xarray as xr\n",
    "import seaborn as sns\n",
    "import matplotlib.pyplot as plt\n",
    "import os"
   ]
  },
  {
   "cell_type": "code",
   "execution_count": 2,
   "id": "63e53607-bf0a-41a4-9f72-5769197e4570",
   "metadata": {},
   "outputs": [],
   "source": [
    "# import fsspec.implementations.http as fshttp\n",
    "# from pelicanfs.core import PelicanFileSystem, PelicanMap, OSDFFileSystem "
   ]
  },
  {
   "cell_type": "code",
   "execution_count": 3,
   "id": "9928a424-cf23-4a2f-bf16-afe7137d296f",
   "metadata": {},
   "outputs": [],
   "source": [
    "import dask \n",
    "from dask_jobqueue import PBSCluster\n",
    "from dask.distributed import Client\n",
    "from dask.distributed import performance_report"
   ]
  },
  {
   "cell_type": "code",
   "execution_count": 4,
   "id": "a9355d14-86f5-4236-a986-44af18453483",
   "metadata": {
    "scrolled": true
   },
   "outputs": [
    {
     "name": "stdout",
     "output_type": "stream",
     "text": [
      "/glade/campaign/collections/rda/data/d559000/catalogs/d559000_catalog.json\n"
     ]
    }
   ],
   "source": [
    "# Catalog URLs\n",
    "cat_url     = '/glade/campaign/collections/rda/data/d559000/catalogs/d559000_catalog.json' # POSIX access on NCAR\n",
    "# cat_url     = 'https://data.rda.ucar.edu/d559000/catalogs/d559000_catalog-http.json' # HTTPS access\n",
    "# cat_url     = 'https://data-osdf.rda.ucar.edu/ncar/rda/d559000/catalogs/d559000_catalog-osdf.json' #OSDF access\n",
    "print(cat_url)"
   ]
  },
  {
   "cell_type": "code",
   "execution_count": 5,
   "id": "cabb7bc3-d838-490e-8376-d450f7a8830e",
   "metadata": {},
   "outputs": [
    {
     "name": "stdout",
     "output_type": "stream",
     "text": [
      "/glade/derecho/scratch/harshah\n"
     ]
    }
   ],
   "source": [
    "# Get your scratch folder\n",
    "scratch = os.environ.get(\"SCRATCH\") or getuser()\n",
    "print(scratch)"
   ]
  },
  {
   "cell_type": "markdown",
   "id": "cfb1461c-e63d-435c-919e-b18069e47d6f",
   "metadata": {},
   "source": [
    "## Create a PBS cluster"
   ]
  },
  {
   "cell_type": "code",
   "execution_count": 6,
   "id": "7b21152c-1cd1-407a-8a5f-1b4a4fbbbd78",
   "metadata": {},
   "outputs": [],
   "source": [
    "# Create a PBS cluster object\n",
    "cluster = PBSCluster(\n",
    "    job_name = 'wcrp-hackathon25',\n",
    "    account= 'UCIS0005',\n",
    "    cores = 1,\n",
    "    memory = '10GiB',\n",
    "    processes = 1,\n",
    "    local_directory = scratch,\n",
    "    log_directory = scratch,\n",
    "    resource_spec = 'select=1:ncpus=1:mem=10GB',\n",
    "    queue = 'casper',\n",
    "    walltime = '5:00:00',\n",
    "    interface = 'ext'\n",
    ")\n",
    "\n",
    "client = Client(cluster)"
   ]
  },
  {
   "cell_type": "code",
   "execution_count": null,
   "id": "fac5582e-e3c7-4a44-8498-a61c43565165",
   "metadata": {},
   "outputs": [],
   "source": [
    "# Scale the cluster and display cluster dashboard URL\n",
    "n_workers = 5\n",
    "cluster.scale(n_workers)\n",
    "client.wait_for_workers(n_workers = n_workers)\n",
    "cluster"
   ]
  },
  {
   "cell_type": "markdown",
   "id": "e971bb08-6952-4e5a-8c34-5b03fe189562",
   "metadata": {},
   "source": [
    "## Load CONUS 404 data from RDA using an intake catalog"
   ]
  },
  {
   "cell_type": "code",
   "execution_count": null,
   "id": "be45a360-624a-403b-be3f-6879ec0a5c09",
   "metadata": {},
   "outputs": [],
   "source": [
    "col = intake.open_esm_datastore(cat_url)\n",
    "col"
   ]
  },
  {
   "cell_type": "markdown",
   "id": "ab5d0b9a-0170-4239-99c7-f1ff3375941b",
   "metadata": {},
   "source": [
    "- col.df turns the catalog object into a pandas dataframe!\n",
    "- (Actually, it accesses the dataframe attribute of the catalog)"
   ]
  },
  {
   "cell_type": "code",
   "execution_count": null,
   "id": "c9b40ffb-246a-4294-ab3d-fc5bee0eb093",
   "metadata": {},
   "outputs": [],
   "source": [
    "col.df"
   ]
  },
  {
   "cell_type": "markdown",
   "id": "dc0613df-88cb-422f-9ca5-c5039c838bad",
   "metadata": {},
   "source": [
    "## Select data and plot"
   ]
  },
  {
   "cell_type": "markdown",
   "id": "68148c3c-0609-49b1-8a1d-99057b2f4f20",
   "metadata": {},
   "source": [
    "#### What if you don't know the variable names ?\n",
    "- Use pandas logic to print out the short_name and long_name"
   ]
  },
  {
   "cell_type": "code",
   "execution_count": null,
   "id": "f7f1d4d2-82ae-427e-a52a-ac01240c624f",
   "metadata": {},
   "outputs": [],
   "source": [
    "col.df[['variable','long_name']]"
   ]
  },
  {
   "cell_type": "markdown",
   "id": "440fc58d-5aec-4988-ab50-57f087ccb499",
   "metadata": {},
   "source": [
    "- We notice that long_name is not available for some variables like 'V'\n",
    "- In such cases, please look at the wrfout_datadictionary file on this page https://rda.ucar.edu/datasets/d559000/documentation/#"
   ]
  },
  {
   "cell_type": "markdown",
   "id": "303a8807-665c-4389-8d69-ca1db4f4b467",
   "metadata": {},
   "source": [
    "### Temperature\n",
    "- Plot temperature for a random date"
   ]
  },
  {
   "cell_type": "code",
   "execution_count": null,
   "id": "37c06634-fdfc-48c9-8a44-9b41fd2af898",
   "metadata": {},
   "outputs": [],
   "source": [
    "cat_temp = col.search(variable='T2')\n",
    "cat_temp.df.head()"
   ]
  },
  {
   "cell_type": "markdown",
   "id": "e16d2129-a425-48d9-94f1-3a1282177afd",
   "metadata": {},
   "source": [
    "- The data is organized in (virtual) zarr stores with one water year's worth of data in one file\n",
    "- Select a year. This is done by selcting the start time to be Oct 1 of that year or the end time to be Sep 30 of the same year\n",
    "- This also means that if you want to request data for other days, say Jan 1 for the year YYYY, you first have to load the data for one year i.e., YYYY and then select the data for that particular day. This example is discussed below.\n"
   ]
  },
  {
   "cell_type": "code",
   "execution_count": null,
   "id": "bebbff94-8564-4166-acba-20e12170a0c8",
   "metadata": {},
   "outputs": [],
   "source": [
    "date = \"2020-10-01\"\n",
    "# year = \"2021\"\n",
    "cat_temp_subset = cat_temp.search(start_time = date)\n",
    "cat_temp_subset"
   ]
  },
  {
   "cell_type": "markdown",
   "id": "4ab1a71e-f3eb-435c-8ebb-1a3a2c6b17e7",
   "metadata": {},
   "source": [
    "### Load data into xarray"
   ]
  },
  {
   "cell_type": "code",
   "execution_count": null,
   "id": "24ae3b14-fcf0-45ee-8fb5-6b243ce00a42",
   "metadata": {},
   "outputs": [],
   "source": [
    "# Load catalog entries for subset into a dictionary of xarray datasets, and open the first one.\n",
    "dsets = cat_temp_subset.to_dataset_dict(zarr_kwargs={\"consolidated\": True})\n",
    "print(f\"\\nDataset dictionary keys:\\n {dsets.keys()}\")"
   ]
  },
  {
   "cell_type": "code",
   "execution_count": null,
   "id": "bc2d3eb3-af61-416d-b433-2c2e76474e2a",
   "metadata": {},
   "outputs": [],
   "source": [
    "# Load the first dataset and display a summary.\n",
    "dataset_key = list(dsets.keys())[0]\n",
    "# store_name = dataset_key + \".zarr\"\n",
    "print(dsets.keys())\n",
    "ds = dsets[dataset_key]\n",
    "ds = ds.T2\n",
    "ds"
   ]
  },
  {
   "cell_type": "code",
   "execution_count": null,
   "id": "2912997d-3831-4751-b673-b75e8e9c15c3",
   "metadata": {},
   "outputs": [],
   "source": [
    "%%time\n",
    "desired_time = \"2021-01-01T00\"\n",
    "ds.sel(Time=desired_date,method='nearest').plot(cmap='inferno')"
   ]
  },
  {
   "cell_type": "code",
   "execution_count": null,
   "id": "6dd28c1d-9879-459b-8154-15c79700c50e",
   "metadata": {},
   "outputs": [],
   "source": [
    "cluster.close()"
   ]
  }
 ],
 "metadata": {
  "kernelspec": {
   "display_name": "wcrp_hackathon",
   "language": "python",
   "name": "wcrp_hackathon"
  },
  "language_info": {
   "codemirror_mode": {
    "name": "ipython",
    "version": 3
   },
   "file_extension": ".py",
   "mimetype": "text/x-python",
   "name": "python",
   "nbconvert_exporter": "python",
   "pygments_lexer": "ipython3",
   "version": "3.10.13"
  }
 },
 "nbformat": 4,
 "nbformat_minor": 5
}
