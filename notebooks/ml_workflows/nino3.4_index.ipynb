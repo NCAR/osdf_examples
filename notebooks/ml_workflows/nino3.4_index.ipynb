{
 "cells": [
  {
   "cell_type": "markdown",
   "id": "bc65f494-4fbe-4af0-85ca-e3a424b56454",
   "metadata": {},
   "source": [
    "# Forecasting Nino indices using regression"
   ]
  },
  {
   "cell_type": "markdown",
   "id": "d20011b4-5317-4614-a5e0-42f3e0a9ece6",
   "metadata": {},
   "source": [
    "- https://climatedataguide.ucar.edu/climate-data/nino-sst-indices-nino-12-3-34-4-oni-and-tni \n",
    "- Adapted from this workflow: https://github.com/NCAR/ML_workshop2023/blob/main/tutorials/Day1_simple_regression/Linear_Models.ipynb"
   ]
  },
  {
   "cell_type": "markdown",
   "id": "db1d6ac4-fe69-4d95-a9cb-ca2f063ea493",
   "metadata": {},
   "source": [
    "### Input Data Access\n",
    "- Nino 3.4 prediction from global SSTs\n",
    "- Dataset description\n",
    "- Nino3.4 index time series from the NCAR Climate Gateway and Monthly SST Anomalies from the Cobe V2. dataset\n",
    "- Nino3.4 is a time series of sea surface temperature [SST] anomalies averaged in the tropical pacific (lat [5N-5S], lon [170W-120W]). The index typically consists of a 5- month running mean SST field\n",
    "\n",
    "-The Cobe V2. data set is a 1.0 degree latitude x 1.0 degree longitude global grid (180x360) resolution sea surface tempearture field which spans latitude: 89.5N - 89.5S, and longitude: 0.5E - 359.5E. is analysis, a daily SST field is constructed as a sum of a trend, interannual variations, and daily changes, using in situ SST and sea ice concentration observations.\n",
    "- This notebook illustrates how to ......\n",
    "- This data is open access and is accessed via OSDF"
   ]
  },
  {
   "cell_type": "code",
   "execution_count": 1,
   "id": "20444ba4-275a-45a7-bda5-c22b5cb5cee4",
   "metadata": {},
   "outputs": [],
   "source": [
    "# Display output of plots directly in Notebook\n",
    "%matplotlib inline\n",
    "import warnings\n",
    "warnings.filterwarnings(\"ignore\")\n",
    "import intake\n",
    "import numpy as np\n",
    "import pandas as pd\n",
    "import xarray as xr\n",
    "import seaborn as sns\n",
    "import re\n",
    "import xesmf as xe\n",
    "import matplotlib.pyplot as plt"
   ]
  },
  {
   "cell_type": "code",
   "execution_count": 23,
   "id": "63e53607-bf0a-41a4-9f72-5769197e4570",
   "metadata": {},
   "outputs": [],
   "source": [
    "import fsspec.implementations.http as fshttp\n",
    "from pelicanfs.core import PelicanFileSystem, PelicanMap, OSDFFileSystem \n",
    "import cf_units as cf"
   ]
  },
  {
   "cell_type": "code",
   "execution_count": 4,
   "id": "9928a424-cf23-4a2f-bf16-afe7137d296f",
   "metadata": {},
   "outputs": [],
   "source": [
    "import dask \n",
    "from dask_jobqueue import PBSCluster\n",
    "from dask.distributed import Client\n",
    "from dask.distributed import performance_report"
   ]
  },
  {
   "cell_type": "code",
   "execution_count": 5,
   "id": "961a7413-7c37-42a3-9891-14935fb12bd5",
   "metadata": {},
   "outputs": [],
   "source": [
    "init_year0  = '1991'\n",
    "init_year1  = '2020'\n",
    "final_year0 = '2071'\n",
    "final_year1 = '2100'"
   ]
  },
  {
   "cell_type": "code",
   "execution_count": 6,
   "id": "ef9b6c48-22f6-476b-8261-7427e6186b29",
   "metadata": {},
   "outputs": [],
   "source": [
    "def to_daily(ds):\n",
    "    year = ds.time.dt.year\n",
    "    day = ds.time.dt.dayofyear\n",
    "\n",
    "    # assign new coords\n",
    "    ds = ds.assign_coords(year=(\"time\", year.data), day=(\"time\", day.data))\n",
    "\n",
    "    # reshape the array to (..., \"day\", \"year\")\n",
    "    return ds.set_index(time=(\"year\", \"day\")).unstack(\"time\")"
   ]
  },
  {
   "cell_type": "code",
   "execution_count": 7,
   "id": "a9355d14-86f5-4236-a986-44af18453483",
   "metadata": {},
   "outputs": [],
   "source": [
    "rda_scratch = '/gpfs/csfs1/collections/rda/scratch/harshah'\n",
    "# zarr_path   = rda_scratch + \"/tas_zarr/\"\n",
    "# mean_path   = zarr_path + \"/means/\"\n",
    "# stdev_path  = zarr_path + \"/stdevs/\""
   ]
  },
  {
   "cell_type": "markdown",
   "id": "7dfea78a-4c86-423d-bbde-d98b5a3f3c8a",
   "metadata": {},
   "source": [
    "### Useful loading functions\n",
    "- Use palicanfs to load input data"
   ]
  },
  {
   "cell_type": "code",
   "execution_count": null,
   "id": "379fe31d-809d-4886-91fb-6676baf96ae1",
   "metadata": {},
   "outputs": [],
   "source": [
    "#Scaffold code to load in data.  This code cell is mostly data wrangling\n",
    "#Feel free to peruse at your leisure.\n",
    "\n",
    "def load_enso_indices():\n",
    "    \"\"\"\n",
    "    Reads in the txt data file to output a pandas Series of ENSO vals\n",
    "\n",
    "    outputs\n",
    "    -------\n",
    "\n",
    "    pd.Series : monthly ENSO values starting from 1870-01-01\n",
    "    \"\"\"\n",
    "    with open('nino34.long.anom.data.txt') as f:\n",
    "        line = f.readline()\n",
    "        enso_vals = []\n",
    "        while line:\n",
    "            yearly_enso_vals = map(float, line.split()[1:])\n",
    "            enso_vals.extend(yearly_enso_vals)\n",
    "            line = f.readline()\n",
    "\n",
    "    enso_vals = pd.Series(enso_vals)\n",
    "    enso_vals.index = pd.date_range('1870-01-01',freq='MS',\n",
    "                                  periods=len(enso_vals))\n",
    "    enso_vals.index = pd.to_datetime(enso_vals.index)\n",
    "    return enso_vals\n",
    "\n",
    "def assemble_predictors_predictands(start_date, end_date, lead_time, \n",
    "                                    use_pca=False, n_components=32):\n",
    "    \"\"\"\n",
    "    inputs\n",
    "    ------\n",
    "\n",
    "      start_date        str : the start date from which to extract sst\n",
    "      end_date          str : the end date \n",
    "      lead_time         str : the number of months between each sst\n",
    "                              value and the target Nino3.4 Index\n",
    "      use_pca          bool : whether or not to apply principal components\n",
    "                              analysis to the sst field\n",
    "      n_components      int : the number of components to use for PCA\n",
    "\n",
    "    outputs\n",
    "    -------\n",
    "      Returns a tuple of the predictors (np array of sst temperature anomalies) \n",
    "      and the predictands (np array the ENSO index at the specified lead time).\n",
    "\n",
    "    \"\"\"\n",
    "    ds = xr.open_dataset('../../0_data/sst.mon.mean.trefadj.anom.1880to2018.nc')\n",
    "    sst = ds['sst'].sel(time=slice(start_date, end_date))\n",
    "    num_time_steps = sst.shape[0]\n",
    "  \n",
    "    #sst is a 3D array: (time_steps, lat, lon)\n",
    "    #in this tutorial, we will not be using ML models that take\n",
    "    #advantage of the spatial nature of global temperature\n",
    "    #therefore, we reshape sst into a 2D array: (time_steps, lat*lon)\n",
    "    #(At each time step, there are lat*lon predictors)\n",
    "    sst = sst.values.reshape(num_time_steps, -1)\n",
    "    sst[np.isnan(sst)] = 0\n",
    "\n",
    "    #Use Principal Components Analysis, also called\n",
    "    #Empirical Orthogonal Functions, to reduce the\n",
    "    #dimensionality of the array\n",
    "    if use_pca:\n",
    "        pca = sklearn.decomposition.PCA(n_components=n_components)\n",
    "        pca.fit(sst)\n",
    "        X = pca.transform(sst)\n",
    "    else:\n",
    "        X = sst\n",
    "\n",
    "    start_date_plus_lead = pd.to_datetime(start_date) + \\\n",
    "                        pd.DateOffset(months=lead_time)\n",
    "    end_date_plus_lead = pd.to_datetime(end_date) + \\\n",
    "                      pd.DateOffset(months=lead_time)\n",
    "    y = load_enso_indices()[slice(start_date_plus_lead, \n",
    "                                end_date_plus_lead)]\n",
    "\n",
    "    ds.close()\n",
    "    return X, y\n",
    "\n",
    "def plot_nino_time_series(y, predictions, title):\n",
    "    \"\"\"\n",
    "    inputs\n",
    "    ------\n",
    "    y           pd.Series : time series of the true Nino index\n",
    "    predictions np.array  : time series of the predicted Nino index (same\n",
    "                            length and time as y)\n",
    "    titile                : the title of the plot\n",
    "\n",
    "    outputs\n",
    "    -------\n",
    "    None.  Displays the plot\n",
    "    \"\"\"\n",
    "    predictions = pd.Series(predictions, index=y.index)\n",
    "    predictions = predictions.sort_index()\n",
    "    y = y.sort_index()\n",
    "\n",
    "    plt.plot(y, label='Ground Truth',color='xkcd:teal')\n",
    "    plt.plot(predictions, '--', label='ML Predictions',color='xkcd:purple')\n",
    "    plt.legend(loc='best')\n",
    "    plt.title(title)\n",
    "    plt.ylabel('Nino3.4 Index')\n",
    "    plt.xlabel('Date')\n",
    "    plt.show()\n",
    "    plt.close()"
   ]
  },
  {
   "cell_type": "markdown",
   "id": "cfb1461c-e63d-435c-919e-b18069e47d6f",
   "metadata": {},
   "source": [
    "## Create a PBS cluster"
   ]
  },
  {
   "cell_type": "code",
   "execution_count": 8,
   "id": "61ff9c8f-cadb-48e2-bd8d-7b5d7d2b4fe4",
   "metadata": {},
   "outputs": [],
   "source": [
    "# Create a PBS cluster object\n",
    "cluster = PBSCluster(\n",
    "    job_name = 'dask-wk24-hpc',\n",
    "    cores = 1,\n",
    "    memory = '8GiB',\n",
    "    processes = 1,\n",
    "    local_directory = rda_scratch+'/dask/spill',\n",
    "    log_directory = rda_scratch + '/dask/logs/',\n",
    "    resource_spec = 'select=1:ncpus=1:mem=8GB',\n",
    "    queue = 'casper',\n",
    "    walltime = '5:00:00',\n",
    "    #interface = 'ib0'\n",
    "    interface = 'ext'\n",
    ")"
   ]
  },
  {
   "cell_type": "code",
   "execution_count": 9,
   "id": "e1ab50dc-0496-455e-8b02-acf4ef314b37",
   "metadata": {},
   "outputs": [],
   "source": [
    "cluster.scale(5)"
   ]
  },
  {
   "cell_type": "code",
   "execution_count": 10,
   "id": "5c5304fb-06bc-4e37-8421-0c70f883d062",
   "metadata": {},
   "outputs": [
    {
     "data": {
      "text/html": [
       "<div class=\"jp-RenderedHTMLCommon jp-RenderedHTML jp-mod-trusted jp-OutputArea-output\">\n",
       "    <div style=\"width: 24px; height: 24px; background-color: #e1e1e1; border: 3px solid #9D9D9D; border-radius: 5px; position: absolute;\">\n",
       "    </div>\n",
       "    <div style=\"margin-left: 48px;\">\n",
       "        <h3 style=\"margin-bottom: 0px; margin-top: 0px;\">PBSCluster</h3>\n",
       "        <p style=\"color: #9D9D9D; margin-bottom: 0px;\">9ea08cc7</p>\n",
       "        <table style=\"width: 100%; text-align: left;\">\n",
       "            <tr>\n",
       "                <td style=\"text-align: left;\">\n",
       "                    <strong>Dashboard:</strong> <a href=\"https://jupyterhub.hpc.ucar.edu/stable/user/harshah/proxy/42427/status\" target=\"_blank\">https://jupyterhub.hpc.ucar.edu/stable/user/harshah/proxy/42427/status</a>\n",
       "                </td>\n",
       "                <td style=\"text-align: left;\">\n",
       "                    <strong>Workers:</strong> 0\n",
       "                </td>\n",
       "            </tr>\n",
       "            <tr>\n",
       "                <td style=\"text-align: left;\">\n",
       "                    <strong>Total threads:</strong> 0\n",
       "                </td>\n",
       "                <td style=\"text-align: left;\">\n",
       "                    <strong>Total memory:</strong> 0 B\n",
       "                </td>\n",
       "            </tr>\n",
       "            \n",
       "        </table>\n",
       "\n",
       "        <details>\n",
       "            <summary style=\"margin-bottom: 20px;\">\n",
       "                <h3 style=\"display: inline;\">Scheduler Info</h3>\n",
       "            </summary>\n",
       "\n",
       "            <div style=\"\">\n",
       "    <div>\n",
       "        <div style=\"width: 24px; height: 24px; background-color: #FFF7E5; border: 3px solid #FF6132; border-radius: 5px; position: absolute;\"> </div>\n",
       "        <div style=\"margin-left: 48px;\">\n",
       "            <h3 style=\"margin-bottom: 0px;\">Scheduler</h3>\n",
       "            <p style=\"color: #9D9D9D; margin-bottom: 0px;\">Scheduler-24d7312d-e887-4c39-97f1-8d68b05d9aa9</p>\n",
       "            <table style=\"width: 100%; text-align: left;\">\n",
       "                <tr>\n",
       "                    <td style=\"text-align: left;\">\n",
       "                        <strong>Comm:</strong> tcp://128.117.208.94:33169\n",
       "                    </td>\n",
       "                    <td style=\"text-align: left;\">\n",
       "                        <strong>Workers:</strong> 0\n",
       "                    </td>\n",
       "                </tr>\n",
       "                <tr>\n",
       "                    <td style=\"text-align: left;\">\n",
       "                        <strong>Dashboard:</strong> <a href=\"https://jupyterhub.hpc.ucar.edu/stable/user/harshah/proxy/42427/status\" target=\"_blank\">https://jupyterhub.hpc.ucar.edu/stable/user/harshah/proxy/42427/status</a>\n",
       "                    </td>\n",
       "                    <td style=\"text-align: left;\">\n",
       "                        <strong>Total threads:</strong> 0\n",
       "                    </td>\n",
       "                </tr>\n",
       "                <tr>\n",
       "                    <td style=\"text-align: left;\">\n",
       "                        <strong>Started:</strong> Just now\n",
       "                    </td>\n",
       "                    <td style=\"text-align: left;\">\n",
       "                        <strong>Total memory:</strong> 0 B\n",
       "                    </td>\n",
       "                </tr>\n",
       "            </table>\n",
       "        </div>\n",
       "    </div>\n",
       "\n",
       "    <details style=\"margin-left: 48px;\">\n",
       "        <summary style=\"margin-bottom: 20px;\">\n",
       "            <h3 style=\"display: inline;\">Workers</h3>\n",
       "        </summary>\n",
       "\n",
       "        \n",
       "\n",
       "    </details>\n",
       "</div>\n",
       "\n",
       "        </details>\n",
       "    </div>\n",
       "</div>"
      ],
      "text/plain": [
       "PBSCluster(9ea08cc7, 'tcp://128.117.208.94:33169', workers=0, threads=0, memory=0 B)"
      ]
     },
     "metadata": {},
     "output_type": "display_data"
    }
   ],
   "source": [
    "cluster"
   ]
  },
  {
   "cell_type": "markdown",
   "id": "e971bb08-6952-4e5a-8c34-5b03fe189562",
   "metadata": {},
   "source": [
    "## Load CESM LENS2 temperature data"
   ]
  },
  {
   "cell_type": "code",
   "execution_count": null,
   "id": "94efce94-57aa-40fb-9a41-7f83a57a2ed5",
   "metadata": {},
   "outputs": [],
   "source": [
    "%matplotlib inline\n",
    "\n",
    "#Load in the predictors\n",
    "X, y = assemble_predictors_predictands('1990-01-01','2005-12-31', 36)\n",
    "\n",
    "#Let's use a linear regression model\n",
    "regr = sklearn.linear_model.LinearRegression()\n",
    "regr.fit(X,y)\n",
    "\n",
    "predictions = regr.predict(X)\n",
    "corr, _ = scipy.stats.pearsonr(predictions, y)\n",
    "\n",
    "plot_nino_time_series(y, predictions, \n",
    "    'Predicted and True Nino3.4 Indices on Training Set at 36 Month Lead Time. \\n Corr: {:.2f}'.format(corr))"
   ]
  },
  {
   "cell_type": "markdown",
   "id": "8dc90b06-edbf-4c68-9eff-4d27f29bd577",
   "metadata": {},
   "source": [
    "#### Change units"
   ]
  }
 ],
 "metadata": {
  "kernelspec": {
   "display_name": "python:osdf",
   "language": "python",
   "name": "osdf"
  },
  "language_info": {
   "codemirror_mode": {
    "name": "ipython",
    "version": 3
   },
   "file_extension": ".py",
   "mimetype": "text/x-python",
   "name": "python",
   "nbconvert_exporter": "python",
   "pygments_lexer": "ipython3",
   "version": "3.10.13"
  }
 },
 "nbformat": 4,
 "nbformat_minor": 5
}
