{
 "cells": [
  {
   "cell_type": "markdown",
   "id": "bc65f494-4fbe-4af0-85ca-e3a424b56454",
   "metadata": {},
   "source": [
    "# Accessing NCAR data origin data and benchmark"
   ]
  },
  {
   "cell_type": "code",
   "execution_count": 1,
   "id": "20444ba4-275a-45a7-bda5-c22b5cb5cee4",
   "metadata": {},
   "outputs": [],
   "source": [
    "# Display output of plots directly in Notebook\n",
    "import intake\n",
    "import numpy as np\n",
    "import pandas as pd\n",
    "import xarray as xr\n",
    "import re\n",
    "import aiohttp\n",
    "import time\n",
    "from contextlib import contextmanager\n",
    "import matplotlib.pyplot as plt\n",
    "import requests\n",
    "import time"
   ]
  },
  {
   "cell_type": "code",
   "execution_count": 2,
   "id": "63e53607-bf0a-41a4-9f72-5769197e4570",
   "metadata": {},
   "outputs": [],
   "source": [
    "import fsspec\n",
    "import fsspec.implementations.http as fshttp\n",
    "from pelicanfs.core import PelicanFileSystem, PelicanMap, OSDFFileSystem "
   ]
  },
  {
   "cell_type": "code",
   "execution_count": 3,
   "id": "527bceff-e200-4c8a-b80d-8c44ce32d4f6",
   "metadata": {},
   "outputs": [],
   "source": [
    "def convert_to_speed(times,size):\n",
    "    return [size/x for x in times]"
   ]
  },
  {
   "cell_type": "code",
   "execution_count": 4,
   "id": "f24988f5-eb9c-4b06-b4ce-4d87802e3b77",
   "metadata": {},
   "outputs": [],
   "source": [
    "https_url_500 = 'https://data.rda.ucar.edu/d084001/2024/20241109/gfs.0p25.2024110900.f000.grib2' # ~ 500 MB\n",
    "https_url = 'https://data.rda.ucar.edu/d083002/grib2/2016/2016.01/fnl_20160102_00_00.grib2' # ~ 17 MB\n",
    "osdf_url_500 =  'osdf:///ncar/rda/d084001/2024/20241109/gfs.0p25.2024110900.f000.grib2'\n",
    "osdf_url = 'osdf:///ncar/rda/d083002/grib2/2016/2016.01/fnl_20160102_00_00.grib2'"
   ]
  },
  {
   "cell_type": "code",
   "execution_count": 5,
   "id": "fe9a75ac-438e-4bc8-9243-36b9917115e4",
   "metadata": {},
   "outputs": [
    {
     "name": "stdout",
     "output_type": "stream",
     "text": [
      "2.26 s ± 534 ms per loop (mean ± std. dev. of 10 runs, 1 loop each)\n"
     ]
    },
    {
     "data": {
      "text/plain": [
       "<TimeitResult : 2.26 s ± 534 ms per loop (mean ± std. dev. of 10 runs, 1 loop each)>"
      ]
     },
     "execution_count": 5,
     "metadata": {},
     "output_type": "execute_result"
    }
   ],
   "source": [
    "%%timeit -r10 -n1 -o\n",
    "https_file = fsspec.open(https_url)\n",
    "test = https_file.open().read()"
   ]
  },
  {
   "cell_type": "code",
   "execution_count": 6,
   "id": "9499b275-2ffe-477b-b0d4-d58a52040f4b",
   "metadata": {},
   "outputs": [],
   "source": [
    "http_benchmark = _\n",
    "http_benchmark.all_runs = convert_to_speed(http_benchmark.all_runs, 17)"
   ]
  },
  {
   "cell_type": "code",
   "execution_count": 8,
   "id": "8bccd5e8-e0b2-4b07-b939-582896528d78",
   "metadata": {},
   "outputs": [
    {
     "name": "stdout",
     "output_type": "stream",
     "text": [
      "23 s ± 11.2 s per loop (mean ± std. dev. of 10 runs, 1 loop each)\n"
     ]
    },
    {
     "data": {
      "text/plain": [
       "<TimeitResult : 23 s ± 11.2 s per loop (mean ± std. dev. of 10 runs, 1 loop each)>"
      ]
     },
     "execution_count": 8,
     "metadata": {},
     "output_type": "execute_result"
    }
   ],
   "source": [
    "%%timeit -r10 -n1 -o\n",
    "https_file = fsspec.open(https_url_500)\n",
    "test = https_file.open().read()"
   ]
  },
  {
   "cell_type": "code",
   "execution_count": 9,
   "id": "52ea64b5-b464-47fa-bec5-18a1c40bb053",
   "metadata": {},
   "outputs": [],
   "source": [
    "http_benchmark_500 = _\n",
    "http_benchmark_500.all_runs = convert_to_speed(http_benchmark_500.all_runs, 500)"
   ]
  },
  {
   "cell_type": "code",
   "execution_count": 10,
   "id": "828b6edc-a45f-4eff-b29b-1b8111381bae",
   "metadata": {},
   "outputs": [
    {
     "data": {
      "text/plain": [
       "[13.864690586133662,\n",
       " 7.717487157007084,\n",
       " 5.844226304808398,\n",
       " 8.991274817746458,\n",
       " 6.754802908552583,\n",
       " 6.624368112341729,\n",
       " 8.064236876146186,\n",
       " 5.485919119718245,\n",
       " 7.1418875866103155,\n",
       " 10.060624202951091]"
      ]
     },
     "execution_count": 10,
     "metadata": {},
     "output_type": "execute_result"
    }
   ],
   "source": [
    "http_benchmark.all_runs"
   ]
  },
  {
   "cell_type": "code",
   "execution_count": 11,
   "id": "f5f7772d-d707-42b0-9c3c-e6db9b75b89e",
   "metadata": {},
   "outputs": [
    {
     "name": "stdout",
     "output_type": "stream",
     "text": [
      "1.44 s ± 362 ms per loop (mean ± std. dev. of 10 runs, 1 loop each)\n"
     ]
    },
    {
     "data": {
      "text/plain": [
       "<TimeitResult : 1.44 s ± 362 ms per loop (mean ± std. dev. of 10 runs, 1 loop each)>"
      ]
     },
     "execution_count": 11,
     "metadata": {},
     "output_type": "execute_result"
    }
   ],
   "source": [
    "%%timeit -r10 -n1 -o\n",
    "osdf_file = fsspec.open(osdf_url)\n",
    "test = osdf_file.open().read()"
   ]
  },
  {
   "cell_type": "code",
   "execution_count": 12,
   "id": "2d9e3cf3-939a-4bbb-a3c6-c7e3fe6b9352",
   "metadata": {},
   "outputs": [],
   "source": [
    "osdf_benchmark = _\n",
    "osdf_benchmark.all_runs = convert_to_speed(osdf_benchmark.all_runs, 17)"
   ]
  },
  {
   "cell_type": "code",
   "execution_count": 13,
   "id": "b54ee92d-faa1-432c-8b4b-7271eb8fde8e",
   "metadata": {},
   "outputs": [
    {
     "name": "stdout",
     "output_type": "stream",
     "text": [
      "20.5 s ± 4.29 s per loop (mean ± std. dev. of 10 runs, 1 loop each)\n"
     ]
    },
    {
     "data": {
      "text/plain": [
       "<TimeitResult : 20.5 s ± 4.29 s per loop (mean ± std. dev. of 10 runs, 1 loop each)>"
      ]
     },
     "execution_count": 13,
     "metadata": {},
     "output_type": "execute_result"
    }
   ],
   "source": [
    "%%timeit -r10 -n1 -o\n",
    "osdf_file = fsspec.open(osdf_url_500)\n",
    "test = osdf_file.open().read()"
   ]
  },
  {
   "cell_type": "code",
   "execution_count": 14,
   "id": "08467f6e-6370-40bb-b1b8-7b1e39e5cf95",
   "metadata": {},
   "outputs": [],
   "source": [
    "osdf_benchmark_500 = _\n",
    "osdf_benchmark_500.all_runs = convert_to_speed(osdf_benchmark_500.all_runs, 500)"
   ]
  },
  {
   "cell_type": "markdown",
   "id": "2f7f36ee-d77b-4862-8149-b5f28e3e7477",
   "metadata": {},
   "source": [
    "#### Do the same thing, but with new data"
   ]
  },
  {
   "cell_type": "code",
   "execution_count": 16,
   "id": "b1cbf02c-c70c-4b73-b3a7-82a870fc442b",
   "metadata": {
    "scrolled": true
   },
   "outputs": [
    {
     "name": "stdout",
     "output_type": "stream",
     "text": [
      "osdf:///ncar/rda/d084001/2024/20241109/gfs.0p25.2024110900.f003.grib2\n",
      "43.416706800460815\n",
      "osdf:///ncar/rda/d084001/2024/20241109/gfs.0p25.2024110900.f006.grib2\n",
      "46.3556911945343\n",
      "osdf:///ncar/rda/d084001/2024/20241109/gfs.0p25.2024110900.f009.grib2\n",
      "36.32691025733948\n",
      "osdf:///ncar/rda/d084001/2024/20241109/gfs.0p25.2024110900.f012.grib2\n",
      "40.33690285682678\n",
      "osdf:///ncar/rda/d084001/2024/20241109/gfs.0p25.2024110900.f015.grib2\n",
      "31.145659923553467\n",
      "osdf:///ncar/rda/d084001/2024/20241109/gfs.0p25.2024110900.f018.grib2\n",
      "24.366804838180542\n",
      "osdf:///ncar/rda/d084001/2024/20241109/gfs.0p25.2024110900.f021.grib2\n",
      "18.750062227249146\n",
      "osdf:///ncar/rda/d084001/2024/20241109/gfs.0p25.2024110900.f024.grib2\n",
      "19.145925045013428\n",
      "osdf:///ncar/rda/d084001/2024/20241109/gfs.0p25.2024110900.f027.grib2\n",
      "20.25401520729065\n",
      "osdf:///ncar/rda/d084001/2024/20241109/gfs.0p25.2024110900.f030.grib2\n",
      "19.105170965194702\n"
     ]
    }
   ],
   "source": [
    "reps = 11\n",
    "osdf_500_first = []\n",
    "for i in range(1,reps):\n",
    "    new_url = osdf_url_500.replace('f000','f'+f'{i*3}'.zfill(3))\n",
    "    print(new_url)\n",
    "    start = time.time()\n",
    "    osdf_file = fsspec.open(new_url)\n",
    "    test = osdf_file.open().read()\n",
    "    end = time.time()\n",
    "    osdf_500_first.append(end-start)\n",
    "    print(end-start)\n",
    "\n",
    "osdf_500_first = convert_to_speed(osdf_500_first, 500)"
   ]
  },
  {
   "cell_type": "code",
   "execution_count": 17,
   "id": "13cb8105-e7aa-4fd0-ba37-38e241372634",
   "metadata": {},
   "outputs": [
    {
     "name": "stdout",
     "output_type": "stream",
     "text": [
      "osdf:///ncar/rda/d083002/grib2/2016/2016.01/fnl_20160102_00_00.grib2\n",
      "osdf:///ncar/rda/d083002/grib2/2016/2016.01/fnl_20160102_00_00.grib2\n",
      "osdf:///ncar/rda/d083002/grib2/2016/2016.01/fnl_20160102_00_00.grib2\n",
      "osdf:///ncar/rda/d083002/grib2/2016/2016.01/fnl_20160102_00_00.grib2\n",
      "osdf:///ncar/rda/d083002/grib2/2016/2016.01/fnl_20160102_00_00.grib2\n",
      "osdf:///ncar/rda/d083002/grib2/2016/2016.01/fnl_20160102_00_00.grib2\n",
      "osdf:///ncar/rda/d083002/grib2/2016/2016.01/fnl_20160102_00_00.grib2\n",
      "osdf:///ncar/rda/d083002/grib2/2016/2016.01/fnl_20160102_00_00.grib2\n",
      "osdf:///ncar/rda/d083002/grib2/2016/2016.01/fnl_20160102_00_00.grib2\n",
      "osdf:///ncar/rda/d083002/grib2/2016/2016.01/fnl_20160102_00_00.grib2\n"
     ]
    }
   ],
   "source": [
    "reps = 12\n",
    "osdf_20_first = []\n",
    "for i in range(2,reps):\n",
    "    new_url = osdf_url.replace('20160101','201601'+f'{i}'.zfill(2))\n",
    "    print(new_url)\n",
    "    start = time.time()\n",
    "    osdf_file = fsspec.open(new_url)\n",
    "    #test = osdf_file.open().read()\n",
    "    end = time.time()\n",
    "    osdf_20_first.append(end-start)\n",
    "\n",
    "osdf_20_first = convert_to_speed(osdf_20_first, 17)"
   ]
  },
  {
   "cell_type": "code",
   "execution_count": null,
   "id": "32556381-bb8e-47f4-8b0a-8f9067f7e58f",
   "metadata": {},
   "outputs": [],
   "source": [
    "ds_osdf_1Mb  = ds_osdf.isel(time=0).isel(member_id =1+ np.arange(3))\n",
    "ds_https_1Mb = ds_https.isel(time=0).isel(member_id =1+ np.arange(3))\n",
    "ds_osdf_1Mb"
   ]
  },
  {
   "cell_type": "code",
   "execution_count": null,
   "id": "7ebacca2-e65b-4dfb-9df4-e1fa36d7dee5",
   "metadata": {},
   "outputs": [],
   "source": [
    "ds_osdf_10Mb  = ds_osdf.isel(member_id =4).isel(time=np.arange(24))\n",
    "ds_https_10Mb = ds_https.isel(member_id =4).isel(time=np.arange(24))\n",
    "ds_osdf_10Mb"
   ]
  },
  {
   "cell_type": "code",
   "execution_count": null,
   "id": "673bca96-e11c-4a5b-b750-c811c8ccc55a",
   "metadata": {},
   "outputs": [],
   "source": [
    "ds_osdf_100Mb  = ds_osdf.isel(member_id =5).isel(time=np.arange(238))\n",
    "ds_https_100Mb = ds_https.isel(member_id =5).isel(time=np.arange(238))\n",
    "ds_osdf_100Mb"
   ]
  },
  {
   "cell_type": "code",
   "execution_count": null,
   "id": "5ad55e72-111b-4e09-b614-f8189610d0c7",
   "metadata": {},
   "outputs": [],
   "source": [
    "ds_osdf_1Gb  = ds_osdf.isel(member_id  = 6 + np.arange(6)).isel(time = np.arange(410))\n",
    "ds_https_1Gb = ds_https.isel(member_id = 6 + np.arange(6)).isel(time = np.arange(410))\n",
    "ds_osdf_1Gb"
   ]
  },
  {
   "cell_type": "code",
   "execution_count": null,
   "id": "00ef6322-3487-4191-9316-b118b64be088",
   "metadata": {},
   "outputs": [],
   "source": [
    "ds_osdf_10Gb  = ds_osdf.isel(member_id  = 12 + np.arange(52))\n",
    "ds_https_10Gb = ds_https.isel(member_id = 12 + np.arange(52))\n",
    "ds_osdf_10Gb"
   ]
  },
  {
   "cell_type": "markdown",
   "id": "7eb6c7a1-1438-4fd9-8931-46d2de1f7164",
   "metadata": {},
   "source": [
    "## Plot Benchmark"
   ]
  },
  {
   "cell_type": "code",
   "execution_count": 27,
   "id": "b7ff4999-abe9-4e81-ac36-aa8faea6d7e2",
   "metadata": {
    "scrolled": true
   },
   "outputs": [
    {
     "name": "stderr",
     "output_type": "stream",
     "text": [
      "/var/folders/s6/91vtlny15ndg8d653_5yj3d54s47g_/T/ipykernel_24500/3617907460.py:3: UserWarning: set_ticklabels() should only be used with a fixed number of ticks, i.e. after set_ticks() or using a FixedLocator.\n",
      "  ax.set_xticklabels(['HTTPS 20 MB','OSDF 20 MB - Cached', 'OSDF 20 MB - First Run'])\n"
     ]
    },
    {
     "data": {
      "text/plain": [
       "[]"
      ]
     },
     "execution_count": 27,
     "metadata": {},
     "output_type": "execute_result"
    },
    {
     "data": {
      "image/png": "[encoded data removed]",
      "text/plain": [
       "<Figure size 1000x600 with 1 Axes>"
      ]
     },
     "metadata": {},
     "output_type": "display_data"
    }
   ],
   "source": [
    "fig, ax = plt.subplots(figsize=(10, 6))\n",
    "ax.set_title(\"Direct downloads from Madison\")\n",
    "ax.set_xticklabels(['HTTPS 20 MB','OSDF 20 MB - Cached', 'OSDF 20 MB - First Run'])\n",
    "ax.set_ylabel('Speed (MB/s)')\n",
    "ax.boxplot([http_benchmark.all_runs,osdf_benchmark.all_runs,osdf_20_first])\n",
    "ax.plot()\n"
   ]
  },
  {
   "cell_type": "code",
   "execution_count": 24,
   "id": "de287230-c707-4721-bfd9-eb5c577cbc74",
   "metadata": {},
   "outputs": [],
   "source": [
    "fig.savefig('test.png')"
   ]
  },
  {
   "cell_type": "code",
   "execution_count": 19,
   "id": "167a6212-f754-498c-ab84-593699cc51f6",
   "metadata": {},
   "outputs": [
    {
     "name": "stderr",
     "output_type": "stream",
     "text": [
      "/var/folders/s6/91vtlny15ndg8d653_5yj3d54s47g_/T/ipykernel_24500/2032745465.py:2: UserWarning: set_ticklabels() should only be used with a fixed number of ticks, i.e. after set_ticks() or using a FixedLocator.\n",
      "  ax.set_xticklabels(['HTTPS 500 MB','OSDF 500 MB - Cached','OSDF 500 MB - First Try'])\n"
     ]
    },
    {
     "data": {
      "text/plain": [
       "[]"
      ]
     },
     "execution_count": 19,
     "metadata": {},
     "output_type": "execute_result"
    },
    {
     "data": {
      "image/png": "[encoded data removed]",
      "text/plain": [
       "<Figure size 1000x600 with 1 Axes>"
      ]
     },
     "metadata": {},
     "output_type": "display_data"
    }
   ],
   "source": [
    "fig, ax = plt.subplots(figsize=(10, 6))\n",
    "ax.set_xticklabels(['HTTPS 500 MB','OSDF 500 MB - Cached','OSDF 500 MB - First Try'])\n",
    "ax.set_ylabel('Speed (MB/s)')\n",
    "ax.set_title(\"Direct downloads from Madison\")\n",
    "ax.boxplot([http_benchmark_500.all_runs,osdf_benchmark_500.all_runs,osdf_500_first])\n",
    "ax.plot()\n"
   ]
  },
  {
   "cell_type": "code",
   "execution_count": 20,
   "id": "5973212a-64a7-4f5c-b542-ce3ff13088d9",
   "metadata": {},
   "outputs": [
    {
     "data": {
      "text/plain": [
       "[13.416349938727265,\n",
       " 9.6952453944973,\n",
       " 29.545437088672035,\n",
       " 24.553432234069625,\n",
       " 28.207432825731722,\n",
       " 29.84377372437392,\n",
       " 32.72366319513727,\n",
       " 25.386109128117045,\n",
       " 29.647175384951844,\n",
       " 27.80469570913068]"
      ]
     },
     "execution_count": 20,
     "metadata": {},
     "output_type": "execute_result"
    }
   ],
   "source": [
    "http_benchmark_500.all_runs"
   ]
  }
 ],
 "metadata": {
  "kernelspec": {
   "display_name": "Python 3 (ipykernel)",
   "language": "python",
   "name": "python3"
  },
  "language_info": {
   "codemirror_mode": {
    "name": "ipython",
    "version": 3
   },
   "file_extension": ".py",
   "mimetype": "text/x-python",
   "name": "python",
   "nbconvert_exporter": "python",
   "pygments_lexer": "ipython3",
   "version": "3.11.8"
  }
 },
 "nbformat": 4,
 "nbformat_minor": 5
}
