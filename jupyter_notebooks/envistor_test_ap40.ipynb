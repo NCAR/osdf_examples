{
 "cells": [
  {
   "cell_type": "code",
   "execution_count": 1,
   "id": "754607fd-1394-418d-84b7-cfe3c954263a",
   "metadata": {},
   "outputs": [],
   "source": [
    "import numpy as np\n",
    "import matplotlib.pyplot as plt\n",
    "import pandas as pd\n",
    "import xarray as xr\n",
    "import aiohttp\n",
    "import time\n",
    "from contextlib import contextmanager\n",
    "import matplotlib.pyplot as plt\n",
    "import seaborn as sns\n",
    "import intake\n",
    "import os"
   ]
  },
  {
   "cell_type": "code",
   "execution_count": 2,
   "id": "1134a8a6-32ed-4114-91a5-75c3d4bf6cd8",
   "metadata": {},
   "outputs": [],
   "source": [
    "import fsspec.implementations.http as fshttp\n",
    "from pelicanfs.core import PelicanFileSystem, PelicanMap, OSDFFileSystem "
   ]
  },
  {
   "cell_type": "code",
   "execution_count": 3,
   "id": "803f13f0-0ecc-4a68-bb7f-ac4c70a3a8d5",
   "metadata": {},
   "outputs": [
    {
     "name": "stdout",
     "output_type": "stream",
     "text": [
      "CPU times: user 2.27 ms, sys: 810 μs, total: 3.08 ms\n",
      "Wall time: 2.53 ms\n"
     ]
    }
   ],
   "source": [
    "%%time\n",
    "osdf_fs = OSDFFileSystem(direct_reads =True) # OSDFFileSystem is already aware of the osdf discovery url"
   ]
  },
  {
   "cell_type": "code",
   "execution_count": 21,
   "id": "ae21a2db-730c-43ba-b27f-06855b146d58",
   "metadata": {},
   "outputs": [
    {
     "name": "stdout",
     "output_type": "stream",
     "text": [
      "CPU times: user 3.63 ms, sys: 180 μs, total: 3.81 ms\n",
      "Wall time: 40.4 ms\n"
     ]
    },
    {
     "data": {
      "text/plain": [
       "[{'name': '/ncar/rda/d300000/2016', 'size': None, 'type': 'file'},\n",
       " {'name': '/ncar/rda/d300000/index.html', 'size': None, 'type': 'file'},\n",
       " {'name': '/ncar/rda/d300000/Invariant', 'size': None, 'type': 'file'},\n",
       " {'name': '/ncar/rda/d300000/2015', 'size': None, 'type': 'file'},\n",
       " {'name': '/ncar/rda/d300000/2017', 'size': None, 'type': 'file'}]"
      ]
     },
     "execution_count": 21,
     "metadata": {},
     "output_type": "execute_result"
    }
   ],
   "source": [
    "%%time\n",
    "osdf_fs.ls('/ncar/rda/d300000')"
   ]
  },
  {
   "cell_type": "code",
   "execution_count": 22,
   "id": "8fdb54c7-c7b9-4987-8133-4327b6d4271a",
   "metadata": {},
   "outputs": [
    {
     "name": "stdout",
     "output_type": "stream",
     "text": [
      "CPU times: user 16.3 ms, sys: 1.46 ms, total: 17.7 ms\n",
      "Wall time: 259 ms\n"
     ]
    },
    {
     "data": {
      "text/plain": [
       "[{'name': '/envistor/buoy/Biscayne Bay LR-BC sampling 071124.xlsx',\n",
       "  'size': None,\n",
       "  'type': 'file'},\n",
       " {'name': '/envistor/buoy/CREST Buoy 3 Biscayne Bay - North Bay Village 081320-012721.xlsx',\n",
       "  'size': None,\n",
       "  'type': 'file'},\n",
       " {'name': '/envistor/buoy/CREST Buoy 3 Miami River 102623-050624.xlsx',\n",
       "  'size': None,\n",
       "  'type': 'file'},\n",
       " {'name': '/envistor/buoy/CREST Buoy 2 Miami River 030620 - 082420.xlsx',\n",
       "  'size': None,\n",
       "  'type': 'file'},\n",
       " {'name': '/envistor/buoy/CREST Buoy 3 Haulover Inlet 100518 - 073020 updated.xlsx',\n",
       "  'size': None,\n",
       "  'type': 'file'},\n",
       " {'name': '/envistor/buoy/Biscayne Bay LR-BC sampling 072524.xlsx',\n",
       "  'size': None,\n",
       "  'type': 'file'},\n",
       " {'name': '/envistor/buoy/test.xlsx', 'size': None, 'type': 'file'},\n",
       " {'name': '/envistor/buoy/CREST Buoy 3-2 Little River 042121-050624.xlsx',\n",
       "  'size': None,\n",
       "  'type': 'file'},\n",
       " {'name': '/envistor/buoy/CREST Royal Castle Singer - Biscayne Canal 021423-050624.xlsx',\n",
       "  'size': None,\n",
       "  'type': 'file'},\n",
       " {'name': '/envistor/buoy/CREST Buoy 3 Miami River 080422 - 020123.xlsx',\n",
       "  'size': None,\n",
       "  'type': 'file'},\n",
       " {'name': '/envistor/buoy/CREST Buoy 3 Tavernier Heart Harbor - 060319-082819.xlsx',\n",
       "  'size': None,\n",
       "  'type': 'file'},\n",
       " {'name': '/envistor/buoy/CREST Buoy 4 North Bay Village 033123 - 020124.xlsx',\n",
       "  'size': None,\n",
       "  'type': 'file'},\n",
       " {'name': '/envistor/buoy/CREST Buoy 2 NW Biscayne Bay - S of Biscayne Canal 082720-112221.xlsx',\n",
       "  'size': None,\n",
       "  'type': 'file'},\n",
       " {'name': '/envistor/buoy/CREST Buoy 1 Coral Gables 011719 - 030124.xlsx',\n",
       "  'size': None,\n",
       "  'type': 'file'}]"
      ]
     },
     "execution_count": 22,
     "metadata": {},
     "output_type": "execute_result"
    }
   ],
   "source": [
    "%%time\n",
    "osdf_fs.ls('/envistor/buoy')"
   ]
  },
  {
   "cell_type": "code",
   "execution_count": null,
   "id": "7379fca4-bb79-47a5-ad0a-02e19b4bcaa5",
   "metadata": {},
   "outputs": [],
   "source": []
  }
 ],
 "metadata": {
  "kernelspec": {
   "display_name": "Python [conda env:miniconda3]",
   "language": "python",
   "name": "conda-env-miniconda3-py"
  },
  "language_info": {
   "codemirror_mode": {
    "name": "ipython",
    "version": 3
   },
   "file_extension": ".py",
   "mimetype": "text/x-python",
   "name": "python",
   "nbconvert_exporter": "python",
   "pygments_lexer": "ipython3",
   "version": "3.12.7"
  }
 },
 "nbformat": 4,
 "nbformat_minor": 5
}
