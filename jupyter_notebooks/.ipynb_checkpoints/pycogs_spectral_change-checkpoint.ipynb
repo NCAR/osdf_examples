{
 "cells": [
  {
   "cell_type": "code",
   "execution_count": 1,
   "id": "b21c4c4a-352a-4981-b994-c3bd9057d533",
   "metadata": {},
   "outputs": [],
   "source": [
    "# Imports\n",
    "import matplotlib.pyplot as plt\n",
    "import numpy as np\n",
    "import pandas as pd\n",
    "import xarray as xr\n",
    "import s3fs\n",
    "import re\n",
    "from pelicanfs.core import PelicanFileSystem, PelicanMap,OSDFFileSystem \n",
    "import fsspec.implementations.http as fshttp\n",
    "import geopandas as gpd"
   ]
  },
  {
   "cell_type": "code",
   "execution_count": 3,
   "id": "575c1cf8-98a4-4861-94ba-284ff9f16dcf",
   "metadata": {},
   "outputs": [],
   "source": [
    "import dask \n",
    "from dask_jobqueue import PBSCluster\n",
    "from dask.distributed import Client\n",
    "from dask.distributed import performance_report"
   ]
  },
  {
   "cell_type": "code",
   "execution_count": 2,
   "id": "022a5bd5-95f2-4ce3-951b-ea2f97682614",
   "metadata": {},
   "outputs": [
    {
     "name": "stdout",
     "output_type": "stream",
     "text": [
      "                     id  SUB_AREA  COAST     PFAF_ID  DIST_MAIN    HYBAS_ID  \\\n",
      "0  00140000000000002983     128.1      0  3512704524      784.3  3100180240   \n",
      "\n",
      "   DIST_SINK   NEXT_DOWN  ORDER  ENDO    MAIN_BAS   NEXT_SINK   SORT  UP_AREA  \\\n",
      "0      784.3  3100180230      4     0  3100009670  3100009670  66318    128.1   \n",
      "\n",
      "                                            geometry  \n",
      "0  POLYGON ((134.51667 66.87917, 134.51752 66.875...  \n"
     ]
    }
   ],
   "source": [
    "# Load the GeoJSON file\n",
    "geojson_path = '/glade/u/home/harshah/osdf_examples/3100180240.geojson' \n",
    "gdf = gpd.read_file(geojson_path)\n",
    "\n",
    "# Display the loaded GeoDataFrame\n",
    "print(gdf)"
   ]
  },
  {
   "cell_type": "code",
   "execution_count": 6,
   "id": "503a37c8-1e88-423e-99e8-7a3bce851f9c",
   "metadata": {},
   "outputs": [],
   "source": [
    "# Extract AOI geometry\n",
    "aoi_geometry = gdf.geometry.iloc[0]\n",
    "\n",
    "# Get AOI centroid for visualization\n",
    "centroid = aoi_geometry.centroid\n",
    "long, lat = centroid.x, centroid.y"
   ]
  },
  {
   "cell_type": "code",
   "execution_count": null,
   "id": "4fd2c2c3-e7ff-4277-bab1-654c9ed6a3e3",
   "metadata": {},
   "outputs": [],
   "source": []
  }
 ],
 "metadata": {
  "kernelspec": {
   "display_name": "Python [conda env:.conda-osdf]",
   "language": "python",
   "name": "conda-env-.conda-osdf-py"
  },
  "language_info": {
   "codemirror_mode": {
    "name": "ipython",
    "version": 3
   },
   "file_extension": ".py",
   "mimetype": "text/x-python",
   "name": "python",
   "nbconvert_exporter": "python",
   "pygments_lexer": "ipython3",
   "version": "3.12.6"
  }
 },
 "nbformat": 4,
 "nbformat_minor": 5
}
