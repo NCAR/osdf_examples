{
 "cells": [
  {
   "cell_type": "code",
   "execution_count": 2,
   "id": "b21c4c4a-352a-4981-b994-c3bd9057d533",
   "metadata": {},
   "outputs": [],
   "source": [
    "# Imports\n",
    "import matplotlib.pyplot as plt\n",
    "import numpy as np\n",
    "import pandas as pd\n",
    "import xarray as xr\n",
    "import s3fs\n",
    "import re\n",
    "from pelicanfs.core import PelicanFileSystem, PelicanMap,OSDFFileSystem \n",
    "import fsspec.implementations.http as fshttp"
   ]
  },
  {
   "cell_type": "code",
   "execution_count": 3,
   "id": "575c1cf8-98a4-4861-94ba-284ff9f16dcf",
   "metadata": {},
   "outputs": [],
   "source": [
    "import dask \n",
    "from dask_jobqueue import PBSCluster\n",
    "from dask.distributed import Client\n",
    "from dask.distributed import performance_report"
   ]
  },
  {
   "cell_type": "code",
   "execution_count": null,
   "id": "022a5bd5-95f2-4ce3-951b-ea2f97682614",
   "metadata": {},
   "outputs": [],
   "source": []
  }
 ],
 "metadata": {
  "kernelspec": {
   "display_name": "Python [conda env:.conda-osdf]",
   "language": "python",
   "name": "conda-env-.conda-osdf-py"
  },
  "language_info": {
   "codemirror_mode": {
    "name": "ipython",
    "version": 3
   },
   "file_extension": ".py",
   "mimetype": "text/x-python",
   "name": "python",
   "nbconvert_exporter": "python",
   "pygments_lexer": "ipython3",
   "version": "3.12.6"
  }
 },
 "nbformat": 4,
 "nbformat_minor": 5
}
