{
 "cells": [
  {
   "cell_type": "code",
   "execution_count": 1,
   "id": "b21c4c4a-352a-4981-b994-c3bd9057d533",
   "metadata": {},
   "outputs": [],
   "source": [
    "# Imports\n",
    "import matplotlib.pyplot as plt\n",
    "import numpy as np\n",
    "import pandas as pd\n",
    "import xarray as xr\n",
    "import s3fs\n",
    "import re\n",
    "from pelicanfs.core import PelicanFileSystem, PelicanMap,OSDFFileSystem \n",
    "import fsspec.implementations.http as fshttp\n",
    "import geopandas as gpd\n",
    "from pystac_client import Client\n",
    "from odc.stac import stac_load"
   ]
  },
  {
   "cell_type": "code",
   "execution_count": 2,
   "id": "575c1cf8-98a4-4861-94ba-284ff9f16dcf",
   "metadata": {},
   "outputs": [],
   "source": [
    "import dask \n",
    "from dask_jobqueue import PBSCluster\n",
    "from dask.distributed import Client as dask_client\n",
    "from dask.distributed import performance_report"
   ]
  },
  {
   "cell_type": "code",
   "execution_count": 3,
   "id": "022a5bd5-95f2-4ce3-951b-ea2f97682614",
   "metadata": {},
   "outputs": [
    {
     "name": "stdout",
     "output_type": "stream",
     "text": [
      "                     id  SUB_AREA  COAST     PFAF_ID  DIST_MAIN    HYBAS_ID  \\\n",
      "0  00140000000000002983     128.1      0  3512704524      784.3  3100180240   \n",
      "\n",
      "   DIST_SINK   NEXT_DOWN  ORDER  ENDO    MAIN_BAS   NEXT_SINK   SORT  UP_AREA  \\\n",
      "0      784.3  3100180230      4     0  3100009670  3100009670  66318    128.1   \n",
      "\n",
      "                                            geometry  \n",
      "0  POLYGON ((134.51667 66.87917, 134.51752 66.875...  \n"
     ]
    }
   ],
   "source": [
    "# Load the GeoJSON file\n",
    "geojson_path = '/glade/u/home/harshah/osdf_examples/3100180240.geojson' \n",
    "gdf = gpd.read_file(geojson_path)\n",
    "\n",
    "# Display the loaded GeoDataFrame\n",
    "print(gdf)"
   ]
  },
  {
   "cell_type": "code",
   "execution_count": 5,
   "id": "503a37c8-1e88-423e-99e8-7a3bce851f9c",
   "metadata": {},
   "outputs": [
    {
     "name": "stdout",
     "output_type": "stream",
     "text": [
      "Bounding Box: (134.51666686838126, 66.7708333115583, 134.9046488751149, 66.97083294070578)\n"
     ]
    }
   ],
   "source": [
    "# Extract AOI geometry\n",
    "aoi_geometry = gdf.geometry.iloc[0]\n",
    "aoi_bounds   = aoi_geometry.bounds  # (minx, miny, maxx, maxy)\n",
    "\n",
    "# Get AOI centroid for visualization\n",
    "centroid  = aoi_geometry.centroid\n",
    "long, lat = centroid.x, centroid.y\n",
    "\n",
    "# Print the bounding box to verify\n",
    "print(\"Bounding Box:\", aoi_bounds)"
   ]
  },
  {
   "cell_type": "code",
   "execution_count": 9,
   "id": "17db5b4b-7a8b-4515-b9d4-809cf4a6fc2d",
   "metadata": {},
   "outputs": [
    {
     "name": "stdout",
     "output_type": "stream",
     "text": [
      "Found 257 matching items.\n"
     ]
    }
   ],
   "source": [
    "# Connect to the Earth Search STAC API (Sentinel-2 Level-2A COGs are available here)\n",
    "catalog_url = \"https://earth-search.aws.element84.com/v1\"\n",
    "catalog     = Client.open(catalog_url)\n",
    "\n",
    "# Define the date range as strings\n",
    "start_date      = \"2019-01\"\n",
    "end_date        = \"2023-02\"\n",
    "\n",
    "# Define cloud cover threshold\n",
    "cloud_cover_max = 0.05  # 5% cloud cover threshold\n",
    "#cloud_cover_max = 0.20  # 20% cloud cover threshold\n",
    "\n",
    "# Perform the search\n",
    "search = catalog.search(\n",
    "                 collections=[\"sentinel-2-l2a\"],\n",
    "                 bbox=aoi_bounds,\n",
    "                 datetime=f\"{start_date}/{end_date}\",\n",
    "                 #datetime=\"2022-06-01/2022-09-30\",\n",
    "                 query={\"eo:cloud_cover\": {\"lt\": cloud_cover_max * 100}}\n",
    "                )\n",
    "\n",
    "# Get all matching items\n",
    "items = list(search.items())\n",
    "print(f\"Found {len(items)} matching items.\")\n",
    "\n",
    "# for item in items[:5]:  # Print details for the first few items\n",
    "#     print(item.to_dict())"
   ]
  },
  {
   "cell_type": "markdown",
   "id": "0d372a90-bba5-4c58-861a-a3f0f3588316",
   "metadata": {},
   "source": [
    "### Clip images to Area of Interest and calculate NDVI"
   ]
  },
  {
   "cell_type": "code",
   "execution_count": null,
   "id": "f3c86952-efe2-4f37-b422-88e308808048",
   "metadata": {},
   "outputs": [],
   "source": []
  }
 ],
 "metadata": {
  "kernelspec": {
   "display_name": "Python [conda env:.conda-osdf]",
   "language": "python",
   "name": "conda-env-.conda-osdf-py"
  },
  "language_info": {
   "codemirror_mode": {
    "name": "ipython",
    "version": 3
   },
   "file_extension": ".py",
   "mimetype": "text/x-python",
   "name": "python",
   "nbconvert_exporter": "python",
   "pygments_lexer": "ipython3",
   "version": "3.12.6"
  }
 },
 "nbformat": 4,
 "nbformat_minor": 5
}
