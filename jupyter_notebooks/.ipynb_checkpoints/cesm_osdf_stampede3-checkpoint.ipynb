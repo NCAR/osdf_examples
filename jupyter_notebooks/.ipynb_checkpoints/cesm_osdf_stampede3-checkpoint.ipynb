{
 "cells": [
  {
   "cell_type": "markdown",
   "id": "b716aa07",
   "metadata": {},
   "source": [
    "# Access AWS CESM2 using the AWS open data origin data "
   ]
  },
  {
   "cell_type": "code",
   "execution_count": 7,
   "id": "53faee21",
   "metadata": {},
   "outputs": [],
   "source": [
    "# Display output of plots directly in Notebook\n",
    "%matplotlib inline\n",
    "import warnings\n",
    "warnings.filterwarnings(\"ignore\")\n",
    "\n",
    "import intake\n",
    "import numpy as np\n",
    "import pandas as pd\n",
    "import xarray as xr\n",
    "import re\n",
    "# import nest_asyncio\n",
    "# nest_asyncio.apply()\n",
    "import aiohttp"
   ]
  },
  {
   "cell_type": "code",
   "execution_count": 8,
   "id": "c38aa629",
   "metadata": {},
   "outputs": [],
   "source": [
    "import fsspec.implementations.http as fshttp\n",
    "from pelicanfs.core import PelicanFileSystem, PelicanMap, OSDFFileSystem "
   ]
  },
  {
   "cell_type": "code",
   "execution_count": 9,
   "id": "48dada4c",
   "metadata": {},
   "outputs": [],
   "source": [
    "import dask \n",
    "from dask_jobqueue import SLURMCluster\n",
    "from dask.distributed import Client\n",
    "from dask.distributed import performance_report"
   ]
  },
  {
   "cell_type": "code",
   "execution_count": 10,
   "id": "7d0d990a",
   "metadata": {},
   "outputs": [],
   "source": [
    "#\n",
    "rda_url    =  'https://data.rda.ucar.edu/'\n",
    "intake_url = rda_url + 'harshah/intake_catalogs/cesm2-lens-osdf/aws-cesm2-le.json'"
   ]
  },
  {
   "cell_type": "code",
   "execution_count": 11,
   "id": "e9f1c578",
   "metadata": {},
   "outputs": [],
   "source": [
    "# # Spin up SLURM cluster\n",
    "# job_extra = ['--qos=cf_lowprio','--account=ac_cumulus'] \n",
    "# cluster =  SLURMCluster(queue=\"cf1\", cores=5, walltime='6:00:00', \n",
    "#                 local_directory='/global/scratch/users/harsha/dask_space/', \n",
    "#                 log_directory='/global/scratch/users/harsha/dask_space/', \n",
    "#                 job_extra_directives=job_extra, interface='eth0', memory=\"192GB\") \n",
    "# client  = Client(cluster) \n",
    "# cluster.scale_up(4)"
   ]
  },
  {
   "cell_type": "markdown",
   "id": "79c44226",
   "metadata": {},
   "source": [
    "### Access the data from the AWS bucket using intake"
   ]
  },
  {
   "cell_type": "code",
   "execution_count": 12,
   "id": "d5e5a48b",
   "metadata": {},
   "outputs": [
    {
     "ename": "NameError",
     "evalue": "name 'new_intake_url' is not defined",
     "output_type": "error",
     "traceback": [
      "\u001b[0;31m---------------------------------------------------------------------------\u001b[0m",
      "\u001b[0;31mNameError\u001b[0m                                 Traceback (most recent call last)",
      "Cell \u001b[0;32mIn[12], line 1\u001b[0m\n\u001b[0;32m----> 1\u001b[0m osdf_catalog \u001b[38;5;241m=\u001b[39m intake\u001b[38;5;241m.\u001b[39mopen_esm_datastore(\u001b[43mnew_intake_url\u001b[49m)\n\u001b[1;32m      2\u001b[0m osdf_catalog\n",
      "\u001b[0;31mNameError\u001b[0m: name 'new_intake_url' is not defined"
     ]
    }
   ],
   "source": [
    "osdf_catalog = intake.open_esm_datastore(intake_url)\n",
    "osdf_catalog"
   ]
  },
  {
   "cell_type": "code",
   "execution_count": null,
   "id": "d4021bbc",
   "metadata": {},
   "outputs": [],
   "source": [
    "osdf_catalog.df['path'].head().values"
   ]
  },
  {
   "cell_type": "code",
   "execution_count": null,
   "id": "c9cfd91c",
   "metadata": {},
   "outputs": [],
   "source": [
    "osdf_catalog_temp = osdf_catalog.search(variable ='TREFHTMX', frequency ='daily')\n",
    "osdf_catalog_temp"
   ]
  },
  {
   "cell_type": "code",
   "execution_count": null,
   "id": "42685ecc",
   "metadata": {},
   "outputs": [],
   "source": [
    "%%time\n",
    "#dsets = osdf_catalog_temp.to_dataset_dict(storage_options={'anon':True})\n",
    "dsets = osdf_catalog_temp.to_dataset_dict()"
   ]
  },
  {
   "cell_type": "code",
   "execution_count": null,
   "id": "f4df6152",
   "metadata": {},
   "outputs": [],
   "source": [
    "historical_smbb = dsets['atm.historical.daily.smbb']\n",
    "historical_smbb"
   ]
  },
  {
   "cell_type": "code",
   "execution_count": null,
   "id": "73382d52",
   "metadata": {},
   "outputs": [],
   "source": [
    "%%time\n",
    "historical_smbb.TREFHTMX.isel(member_id=0,time=0).plot()"
   ]
  },
  {
   "cell_type": "code",
   "execution_count": null,
   "id": "49bc7e61",
   "metadata": {},
   "outputs": [],
   "source": []
  }
 ],
 "metadata": {
  "kernelspec": {
   "display_name": "Python 3 (ipykernel)",
   "language": "python",
   "name": "python3"
  },
  "language_info": {
   "codemirror_mode": {
    "name": "ipython",
    "version": 3
   },
   "file_extension": ".py",
   "mimetype": "text/x-python",
   "name": "python",
   "nbconvert_exporter": "python",
   "pygments_lexer": "ipython3",
   "version": "3.9.19"
  }
 },
 "nbformat": 4,
 "nbformat_minor": 5
}
