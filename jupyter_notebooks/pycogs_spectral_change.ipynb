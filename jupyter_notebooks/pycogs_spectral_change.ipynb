{
 "cells": [
  {
   "cell_type": "code",
   "execution_count": 7,
   "id": "b21c4c4a-352a-4981-b994-c3bd9057d533",
   "metadata": {},
   "outputs": [
    {
     "name": "stderr",
     "output_type": "stream",
     "text": [
      "/glade/u/home/harshah/.conda/envs/osdf/lib/python3.12/site-packages/tqdm/auto.py:21: TqdmWarning: IProgress not found. Please update jupyter and ipywidgets. See https://ipywidgets.readthedocs.io/en/stable/user_install.html\n",
      "  from .autonotebook import tqdm as notebook_tqdm\n"
     ]
    }
   ],
   "source": [
    "# Imports\n",
    "import matplotlib.pyplot as plt\n",
    "import numpy as np\n",
    "import pandas as pd\n",
    "import xarray as xr\n",
    "import s3fs\n",
    "import re\n",
    "from pelicanfs.core import PelicanFileSystem, PelicanMap,OSDFFileSystem \n",
    "import fsspec.implementations.http as fshttp\n",
    "import geopandas as gpd\n",
    "from sentinelhub import SHConfig, BBox, SentinelHubRequest, DataCollection, CRS"
   ]
  },
  {
   "cell_type": "code",
   "execution_count": 3,
   "id": "575c1cf8-98a4-4861-94ba-284ff9f16dcf",
   "metadata": {},
   "outputs": [],
   "source": [
    "import dask \n",
    "from dask_jobqueue import PBSCluster\n",
    "from dask.distributed import Client\n",
    "from dask.distributed import performance_report"
   ]
  },
  {
   "cell_type": "code",
   "execution_count": 9,
   "id": "022a5bd5-95f2-4ce3-951b-ea2f97682614",
   "metadata": {},
   "outputs": [
    {
     "name": "stdout",
     "output_type": "stream",
     "text": [
      "                     id  SUB_AREA  COAST     PFAF_ID  DIST_MAIN    HYBAS_ID  \\\n",
      "0  00140000000000002983     128.1      0  3512704524      784.3  3100180240   \n",
      "\n",
      "   DIST_SINK   NEXT_DOWN  ORDER  ENDO    MAIN_BAS   NEXT_SINK   SORT  UP_AREA  \\\n",
      "0      784.3  3100180230      4     0  3100009670  3100009670  66318    128.1   \n",
      "\n",
      "                                            geometry  \n",
      "0  POLYGON ((134.51667 66.87917, 134.51752 66.875...  \n"
     ]
    }
   ],
   "source": [
    "# Load the GeoJSON file\n",
    "geojson_path = '/glade/u/home/harshah/osdf_examples/3100180240.geojson' \n",
    "gdf = gpd.read_file(geojson_path)\n",
    "\n",
    "# Display the loaded GeoDataFrame\n",
    "print(gdf)"
   ]
  },
  {
   "cell_type": "code",
   "execution_count": 6,
   "id": "503a37c8-1e88-423e-99e8-7a3bce851f9c",
   "metadata": {},
   "outputs": [],
   "source": [
    "# Extract AOI geometry\n",
    "aoi_geometry = gdf.geometry.iloc[0]\n",
    "\n",
    "# Get AOI centroid for visualization\n",
    "centroid  = aoi_geometry.centroid\n",
    "long, lat = centroid.x, centroid.y"
   ]
  },
  {
   "cell_type": "code",
   "execution_count": 8,
   "id": "4fd2c2c3-e7ff-4277-bab1-654c9ed6a3e3",
   "metadata": {},
   "outputs": [
    {
     "ename": "TypeError",
     "evalue": "SentinelHubRequest.__init__() missing 3 required positional arguments: 'evalscript', 'input_data', and 'responses'",
     "output_type": "error",
     "traceback": [
      "\u001b[0;31m---------------------------------------------------------------------------\u001b[0m",
      "\u001b[0;31mTypeError\u001b[0m                                 Traceback (most recent call last)",
      "Cell \u001b[0;32mIn[8], line 8\u001b[0m\n\u001b[1;32m      5\u001b[0m bbox \u001b[38;5;241m=\u001b[39m BBox(bbox\u001b[38;5;241m=\u001b[39maoi_geometry\u001b[38;5;241m.\u001b[39mbounds, crs\u001b[38;5;241m=\u001b[39mCRS\u001b[38;5;241m.\u001b[39mWGS84)\n\u001b[1;32m      7\u001b[0m \u001b[38;5;66;03m# Set up the request for Sentinel-2 data\u001b[39;00m\n\u001b[0;32m----> 8\u001b[0m request \u001b[38;5;241m=\u001b[39m SentinelHubRequest(\n\u001b[1;32m      9\u001b[0m     data_collection\u001b[38;5;241m=\u001b[39mDataCollection\u001b[38;5;241m.\u001b[39mSENTINEL2_L2A,\n\u001b[1;32m     10\u001b[0m     bbox\u001b[38;5;241m=\u001b[39mbbox,\n\u001b[1;32m     11\u001b[0m     resolution\u001b[38;5;241m=\u001b[39m(\u001b[38;5;241m10\u001b[39m, \u001b[38;5;241m10\u001b[39m),  \u001b[38;5;66;03m# 10m resolution\u001b[39;00m\n\u001b[1;32m     12\u001b[0m     time_interval\u001b[38;5;241m=\u001b[39m(\u001b[38;5;124m'\u001b[39m\u001b[38;5;124m2019-06-01\u001b[39m\u001b[38;5;124m'\u001b[39m, \u001b[38;5;124m'\u001b[39m\u001b[38;5;124m2023-09-30\u001b[39m\u001b[38;5;124m'\u001b[39m),  \u001b[38;5;66;03m# Time range: June to September for years 2019-2023\u001b[39;00m\n\u001b[1;32m     13\u001b[0m     maxcc\u001b[38;5;241m=\u001b[39m\u001b[38;5;241m0.05\u001b[39m,  \u001b[38;5;66;03m# Maximum cloud coverage (5%)\u001b[39;00m\n\u001b[1;32m     14\u001b[0m     bands\u001b[38;5;241m=\u001b[39m[\u001b[38;5;124m'\u001b[39m\u001b[38;5;124mB04\u001b[39m\u001b[38;5;124m'\u001b[39m, \u001b[38;5;124m'\u001b[39m\u001b[38;5;124mB08\u001b[39m\u001b[38;5;124m'\u001b[39m, \u001b[38;5;124m'\u001b[39m\u001b[38;5;124mSCL\u001b[39m\u001b[38;5;124m'\u001b[39m],  \u001b[38;5;66;03m# Red, NIR, and Scene Classification Layer for cloud masking\u001b[39;00m\n\u001b[1;32m     15\u001b[0m     config\u001b[38;5;241m=\u001b[39mconfig\n\u001b[1;32m     16\u001b[0m )\n\u001b[1;32m     18\u001b[0m \u001b[38;5;66;03m# Fetch the data\u001b[39;00m\n\u001b[1;32m     19\u001b[0m response \u001b[38;5;241m=\u001b[39m request\u001b[38;5;241m.\u001b[39mget_data()\n",
      "\u001b[0;31mTypeError\u001b[0m: SentinelHubRequest.__init__() missing 3 required positional arguments: 'evalscript', 'input_data', and 'responses'"
     ]
    }
   ],
   "source": [
    "# SentinelHub configuration (make sure you have configured credentials)\n",
    "config = SHConfig()\n",
    "\n",
    "# Define bounding box from AOI geometry (using WGS84 CRS)\n",
    "bbox = BBox(bbox=aoi_geometry.bounds, crs=CRS.WGS84)\n",
    "\n",
    "# Set up the request for Sentinel-2 data\n",
    "request = SentinelHubRequest(\n",
    "    data_collection=DataCollection.SENTINEL2_L2A,\n",
    "    bbox=bbox,\n",
    "    resolution=(10, 10),  # 10m resolution\n",
    "    time_interval=('2019-06-01', '2023-09-30'),  # Time range: June to September for years 2019-2023\n",
    "    maxcc=0.05,  # Maximum cloud coverage (5%)\n",
    "    bands=['B04', 'B08', 'SCL'],  # Red, NIR, and Scene Classification Layer for cloud masking\n",
    "    config=config\n",
    ")\n",
    "\n",
    "# Fetch the data\n",
    "response = request.get_data()"
   ]
  },
  {
   "cell_type": "code",
   "execution_count": null,
   "id": "17db5b4b-7a8b-4515-b9d4-809cf4a6fc2d",
   "metadata": {},
   "outputs": [],
   "source": []
  }
 ],
 "metadata": {
  "kernelspec": {
   "display_name": "Python [conda env:.conda-osdf]",
   "language": "python",
   "name": "conda-env-.conda-osdf-py"
  },
  "language_info": {
   "codemirror_mode": {
    "name": "ipython",
    "version": 3
   },
   "file_extension": ".py",
   "mimetype": "text/x-python",
   "name": "python",
   "nbconvert_exporter": "python",
   "pygments_lexer": "ipython3",
   "version": "3.12.6"
  }
 },
 "nbformat": 4,
 "nbformat_minor": 5
}
